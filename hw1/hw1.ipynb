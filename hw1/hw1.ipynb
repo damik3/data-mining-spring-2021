{
 "cells": [
  {
   "cell_type": "markdown",
   "metadata": {},
   "source": [
    "# Τεχνικές Eξόρυξης Δεδομένων - Άσκηση 1\n",
    "_Βαργιάμης Μιχαήλ, sdi1300018_\n",
    "\n",
    "---"
   ]
  },
  {
   "cell_type": "code",
   "execution_count": 1,
   "metadata": {},
   "outputs": [],
   "source": [
    "import collections\n",
    "import copy\n",
    "import itertools\n",
    "import numpy as np\n",
    "import pandas as pd"
   ]
  },
  {
   "cell_type": "code",
   "execution_count": 2,
   "metadata": {},
   "outputs": [],
   "source": [
    "netflix_titles = \"netflix_titles.csv\"\n",
    "imdb_movies = \"IMDb movies.csv\"\n",
    "imdb_ratings = \"IMDb ratings.csv\""
   ]
  },
  {
   "cell_type": "code",
   "execution_count": 3,
   "metadata": {},
   "outputs": [],
   "source": [
    "df1 = pd.read_csv(netflix_titles)\n",
    "df2 = pd.read_csv(imdb_movies, low_memory=False)\n",
    "df3 = pd.read_csv(imdb_ratings)"
   ]
  },
  {
   "cell_type": "code",
   "execution_count": 4,
   "metadata": {},
   "outputs": [],
   "source": [
    "def replace_nan(df):\n",
    "    for i in df.columns:\n",
    "        df[i] = df[i].fillna(\"None\")"
   ]
  },
  {
   "cell_type": "code",
   "execution_count": 5,
   "metadata": {},
   "outputs": [],
   "source": [
    "replace_nan(df1)\n",
    "replace_nan(df2)\n",
    "replace_nan(df3)"
   ]
  },
  {
   "cell_type": "code",
   "execution_count": 6,
   "metadata": {
    "scrolled": true
   },
   "outputs": [],
   "source": [
    "# Use a subset of the actual dataset\n",
    "df1 = df1.head(100)"
   ]
  },
  {
   "cell_type": "markdown",
   "metadata": {},
   "source": [
    "### Ερώτημα 1"
   ]
  },
  {
   "cell_type": "code",
   "execution_count": 7,
   "metadata": {},
   "outputs": [
    {
     "name": "stdout",
     "output_type": "stream",
     "text": [
      "Movie      79\n",
      "TV Show    21\n",
      "Name: type, dtype: int64\n"
     ]
    }
   ],
   "source": [
    "# print(df1.type.describe())\n",
    "print(df1.type.value_counts())"
   ]
  },
  {
   "cell_type": "markdown",
   "metadata": {},
   "source": [
    "### Ερώτημα 2"
   ]
  },
  {
   "cell_type": "code",
   "execution_count": 8,
   "metadata": {},
   "outputs": [
    {
     "name": "stdout",
     "output_type": "stream",
     "text": [
      "Movie      48\n",
      "TV Show    18\n",
      "Name: type, dtype: int64\n"
     ]
    }
   ],
   "source": [
    "# print(df1.query('release_year > 2015').type.describe())\n",
    "print(df1.query('release_year > 2015').type.value_counts())"
   ]
  },
  {
   "cell_type": "markdown",
   "metadata": {},
   "source": [
    "### Ερώτημα 3"
   ]
  },
  {
   "cell_type": "code",
   "execution_count": 9,
   "metadata": {},
   "outputs": [
    {
     "name": "stdout",
     "output_type": "stream",
     "text": [
      "United States                         33\n",
      "India                                 11\n",
      "South Korea                            6\n",
      "Turkey                                 5\n",
      "United Kingdom                         5\n",
      "None                                   4\n",
      "Indonesia                              4\n",
      "Canada                                 3\n",
      "Spain                                  3\n",
      "Nigeria                                2\n",
      "France                                 2\n",
      "Romania                                2\n",
      "Mexico                                 2\n",
      "Italy                                  2\n",
      "Egypt                                  1\n",
      "United States, South Africa            1\n",
      "United States, Germany                 1\n",
      "Portugal, Spain                        1\n",
      "Hong Kong, China, Singapore            1\n",
      "Thailand                               1\n",
      "Japan                                  1\n",
      "Argentina                              1\n",
      "Norway, Iceland, United States         1\n",
      "United States, France, Serbia          1\n",
      "South Africa, China, United States     1\n",
      "Singapore                              1\n",
      "Brazil                                 1\n",
      "South Africa, Nigeria                  1\n",
      "Poland, United States                  1\n",
      "Iceland                                1\n",
      "Name: country, dtype: int64\n"
     ]
    }
   ],
   "source": [
    "# print(df1.country.describe())\n",
    "print(df1.country.value_counts())"
   ]
  },
  {
   "cell_type": "markdown",
   "metadata": {},
   "source": [
    "### Ερώτημα 4"
   ]
  },
  {
   "cell_type": "code",
   "execution_count": 10,
   "metadata": {},
   "outputs": [
    {
     "data": {
      "text/plain": [
       "country\n",
       "Argentina         [Action & Adventure, Comedies, International M...\n",
       "Brazil            [International TV Shows, TV Dramas, TV Sci-Fi ...\n",
       "Canada            [Documentaries, International Movies, Comedies...\n",
       "China                    [Action & Adventure, International Movies]\n",
       "Egypt                         [Horror Movies, International Movies]\n",
       "France            [Comedies, Dramas, International Movies, Actio...\n",
       "Germany                                        [Action & Adventure]\n",
       "Hong Kong                [Action & Adventure, International Movies]\n",
       "Iceland           [Dramas, Thrillers, Horror Movies, Internation...\n",
       "India             [Horror Movies, International Movies, Thriller...\n",
       "Indonesia         [Dramas, International Movies, Romantic Movies...\n",
       "Italy             [Documentaries, International Movies, Dramas, ...\n",
       "Japan                        [Anime Series, International TV Shows]\n",
       "Mexico            [Dramas, International Movies, Crime TV Shows,...\n",
       "Nigeria           [Dramas, International Movies, Thrillers, Come...\n",
       "None              [International TV Shows, TV Dramas, Romantic T...\n",
       "Norway                                          [Dramas, Thrillers]\n",
       "Poland            [Crime TV Shows, International TV Shows, TV Dr...\n",
       "Portugal              [Dramas, International Movies, Sports Movies]\n",
       "Romania                    [Comedies, Dramas, International Movies]\n",
       "Serbia                                         [Action & Adventure]\n",
       "Singapore         [Horror Movies, International Movies, Action &...\n",
       "South Africa      [Comedies, International Movies, Romantic Movi...\n",
       "South Korea       [Horror Movies, International Movies, Thriller...\n",
       "Spain             [Comedies, International Movies, Documentaries...\n",
       "Thailand          [Documentaries, International Movies, Sports M...\n",
       "Turkey            [International TV Shows, TV Dramas, TV Mysteri...\n",
       "United Kingdom    [Sports Movies, British TV Shows, Internationa...\n",
       "United States     [Action & Adventure, Independent Movies, Sci-F...\n",
       "Name: listed_in, dtype: object"
      ]
     },
     "execution_count": 10,
     "metadata": {},
     "output_type": "execute_result"
    }
   ],
   "source": [
    "df0 = pd.DataFrame(columns = ['country', 'listed_in'])\n",
    "for country, genre in zip(df1.country, df1.listed_in):\n",
    "    countries = [s.strip() for s in country.split(',')]\n",
    "    genres = [s.strip() for s in genre.split(',')]\n",
    "    for c, g in itertools.product(countries, genres):\n",
    "        temp = {'country': c, 'listed_in': g}\n",
    "        df0 = df0.append(temp, ignore_index=True)\n",
    "\n",
    "df0.groupby(\"country\").listed_in.unique()"
   ]
  },
  {
   "cell_type": "markdown",
   "metadata": {},
   "source": [
    "### Ερώτημα 5"
   ]
  },
  {
   "cell_type": "code",
   "execution_count": 11,
   "metadata": {
    "scrolled": true
   },
   "outputs": [
    {
     "data": {
      "image/png": "[encoded data removed]",
      "text/plain": [
       "<Figure size 432x288 with 1 Axes>"
      ]
     },
     "metadata": {
      "needs_background": "light"
     },
     "output_type": "display_data"
    }
   ],
   "source": [
    "# For this question, no distinction were made between Movies and Tv Series\n",
    "\n",
    "from collections import Counter\n",
    "\n",
    "# Create dictionary with all actor appereances for each country\n",
    "top_actors = {}\n",
    "for cast, countries in zip(df1.cast, df1.country):\n",
    "    for country in [s.strip() for s in countries.split(',')]:\n",
    "        if country not in top_actors:\n",
    "            top_actors[country] = [s.strip() for s in cast.split(',')]\n",
    "        else:\n",
    "            top_actors[country].extend([s.strip() for s in cast.split(',')])\n",
    "\n",
    "\n",
    "# Create list of tuples ((country, most_famous_actor), appereances)\n",
    "# for each country\n",
    "data = []\n",
    "for country, actor_list in top_actors.items():\n",
    "    if country == \"None\":\n",
    "        continue\n",
    "    counter = Counter(actor_list)\n",
    "    most_common = counter.most_common()\n",
    "    \n",
    "    if most_common[0][0] != \"None\" and most_common[0][1] > 1:\n",
    "        data.append(((country, most_common[0][0]), most_common[0][1]))\n",
    "    elif most_common[0][0] == \"None\" and most_common[1][1] > 1:\n",
    "        data.append(((country, most_common[1][0]), most_common[1][1]))\n",
    "\n",
    "# Import data into a dataframe and plot\n",
    "df0 = pd.DataFrame(data, columns = ['Country, Actor', 'Appereances > 1'])\n",
    "df0.plot.bar(x='Country, Actor')   \n",
    "None"
   ]
  },
  {
   "cell_type": "markdown",
   "metadata": {},
   "source": [
    "### Ερώτημα 6"
   ]
  },
  {
   "cell_type": "code",
   "execution_count": 12,
   "metadata": {},
   "outputs": [
    {
     "name": "stdout",
     "output_type": "stream",
     "text": [
      "Counter({'Mature': 37, 'Teens': 30, 'Older kids': 6, 'Little Kids': 3})\n",
      "Counter({'Mature': 12, 'Teens': 8, 'Older kids': 1})\n"
     ]
    },
    {
     "data": {
      "image/png": "[encoded data removed]",
      "text/plain": [
       "<Figure size 432x288 with 1 Axes>"
      ]
     },
     "metadata": {
      "needs_background": "light"
     },
     "output_type": "display_data"
    },
    {
     "data": {
      "image/png": "[encoded data removed]",
      "text/plain": [
       "<Figure size 432x288 with 1 Axes>"
      ]
     },
     "metadata": {
      "needs_background": "light"
     },
     "output_type": "display_data"
    }
   ],
   "source": [
    "group_names = [\"Little Kids\",\"Older kids\", \"Teens\", \"Mature\" ]\n",
    "groups = {\n",
    "    group_names[0]: [\"G\", \"TV-Y\", \"TV-G\"],\n",
    "    group_names[1]: [\"PG, TV-Y7\", \"TV-Y7-FV\", \"TV-PG\"],\n",
    "    group_names[2]: [\"PG-13\", \"TV-14\"],\n",
    "    group_names[3]: [\"R\", \"NC-17\", \"TV-MA\"]\n",
    "}\n",
    "\n",
    "c_movies = Counter()\n",
    "c_shows = Counter()\n",
    "for r, t in zip(df1.rating, df1.type):\n",
    "    for i in range(len(group_names)):\n",
    "        if r in groups[group_names[i]]:\n",
    "            if t == \"Movie\":\n",
    "                c_movies[group_names[i]] += 1\n",
    "            elif t == \"TV Show\":\n",
    "                c_shows[group_names[i]] += 1\n",
    "print(c_movies)\n",
    "print(c_shows)\n",
    "df_movies = pd.DataFrame.from_dict(c_movies, orient='index').reset_index().rename(columns={'index': 'Category', 0: 'Movies' })\n",
    "df_shows = pd.DataFrame.from_dict(c_shows, orient='index').reset_index().rename(columns={'index': 'Category', 0: 'Shows' })\n",
    "df_movies.plot.bar(x='Category')   \n",
    "df_shows.plot.bar(x='Category')   \n",
    "None"
   ]
  },
  {
   "cell_type": "markdown",
   "metadata": {},
   "source": [
    "### Ερώτημα 7"
   ]
  },
  {
   "cell_type": "code",
   "execution_count": 13,
   "metadata": {},
   "outputs": [
    {
     "data": {
      "image/png": "[encoded data removed]",
      "text/plain": [
       "<Figure size 432x288 with 1 Axes>"
      ]
     },
     "metadata": {
      "needs_background": "light"
     },
     "output_type": "display_data"
    }
   ],
   "source": [
    "c = Counter()\n",
    "for d in df1.date_added:\n",
    "    d = d.split()[0]\n",
    "    c[d] += 1\n",
    " \n",
    "df0 = pd.DataFrame.from_dict(c, orient='index').reset_index().rename(columns={'index': 'Month', 0: 'Releases' })\n",
    "df0.plot.bar(x='Month')\n",
    "None"
   ]
  },
  {
   "cell_type": "markdown",
   "metadata": {},
   "source": [
    "### Ερώτημα 8"
   ]
  },
  {
   "cell_type": "code",
   "execution_count": 14,
   "metadata": {},
   "outputs": [
    {
     "data": {
      "image/png": "[encoded data removed]",
      "text/plain": [
       "<Figure size 432x288 with 1 Axes>"
      ]
     },
     "metadata": {
      "needs_background": "light"
     },
     "output_type": "display_data"
    }
   ],
   "source": [
    "c = Counter()\n",
    "for category_list in df1.listed_in:\n",
    "    for category in [s.strip() for s in category_list.split(',')]:\n",
    "        c[category] += 1\n",
    " \n",
    "df0 = pd.DataFrame.from_dict(c, orient='index').reset_index().rename(columns={'index': 'Category', 0: 'Occurences' })\n",
    "df0.plot.bar(x='Category')\n",
    "None"
   ]
  },
  {
   "cell_type": "markdown",
   "metadata": {},
   "source": [
    "### Ερώτημα 9"
   ]
  },
  {
   "cell_type": "code",
   "execution_count": 15,
   "metadata": {},
   "outputs": [
    {
     "data": {
      "image/png": "[encoded data removed]",
      "text/plain": [
       "<Figure size 432x288 with 1 Axes>"
      ]
     },
     "metadata": {
      "needs_background": "light"
     },
     "output_type": "display_data"
    },
    {
     "data": {
      "image/png": "[encoded data removed]",
      "text/plain": [
       "<Figure size 432x288 with 1 Axes>"
      ]
     },
     "metadata": {
      "needs_background": "light"
     },
     "output_type": "display_data"
    }
   ],
   "source": [
    "from collections import defaultdict\n",
    "c = Counter()\n",
    "directors_per_country = defaultdict(Counter)\n",
    "\n",
    "for country_list, director_list in zip(df1.country, df1.director):\n",
    "    for country in [s.strip() for s in country_list.split(',')]:\n",
    "        for director in [s.strip() for s in director_list.split(',')]:\n",
    "            c[country] += 1\n",
    "            directors_per_country[country][director] += 1\n",
    "\n",
    "data = []\n",
    "for country, directors in directors_per_country.items():\n",
    "    if country == \"None\":\n",
    "        continue\n",
    "    if directors.most_common()[0][0] != \"None\":\n",
    "        data.append(((country, directors.most_common()[0][0]), directors.most_common()[0][1]))\n",
    "    else:\n",
    "        if len(directors) < 2:\n",
    "            continue\n",
    "        data.append(((country, directors.most_common()[1][0]), directors.most_common()[1][1]))\n",
    "\n",
    "df00 = pd.DataFrame.from_dict(c, orient='index').reset_index().rename(columns={'index': 'Country', 0: 'Directors' })\n",
    "df00.plot.bar(x='Country', title=\"Number of directors per country\")\n",
    "None   \n",
    "df01 = pd.DataFrame(data, columns = ['Country, Director', 'Occurences'])\n",
    "df01.plot.bar(x='Country, Director', title=\"Most frequent director per country\")   \n",
    "None"
   ]
  },
  {
   "cell_type": "markdown",
   "metadata": {},
   "source": [
    "### Ερώτημα 10"
   ]
  },
  {
   "cell_type": "code",
   "execution_count": 16,
   "metadata": {},
   "outputs": [
    {
     "data": {
      "image/png": "[encoded data removed]",
      "text/plain": [
       "<Figure size 432x288 with 1 Axes>"
      ]
     },
     "metadata": {
      "needs_background": "light"
     },
     "output_type": "display_data"
    }
   ],
   "source": [
    "c = Counter()\n",
    "for type, duration in zip(df1.type, df1.duration):\n",
    "    if type != \"TV Show\":\n",
    "        continue\n",
    "    c[duration] += 1\n",
    " \n",
    "df0 = pd.DataFrame.from_dict(c, orient='index').reset_index().rename(columns={'index': 'Duration', 0: 'Occurences' })\n",
    "df0.plot.bar(x='Duration')\n",
    "None"
   ]
  },
  {
   "cell_type": "markdown",
   "metadata": {},
   "source": [
    "### Ερώτημα 11"
   ]
  },
  {
   "cell_type": "code",
   "execution_count": 17,
   "metadata": {},
   "outputs": [
    {
     "name": "stdout",
     "output_type": "stream",
     "text": [
      "          title  weighted_average_vote\n",
      "7      2 States                    8.2\n",
      "2   3 Deewarein                    7.8\n",
      "12         1983                    7.7\n",
      "3             9                    7.7\n",
      "4             9                    7.1\n",
      "8      2 States                    6.9\n",
      "20          122                    6.8\n",
      "6            21                    6.8\n",
      "9          1920                    6.4\n",
      "1          1922                    6.3\n"
     ]
    }
   ],
   "source": [
    "top_n = 10\n",
    "\n",
    "df0 = pd.merge(df2[['imdb_title_id', 'title']], df1[['show_id', 'title']], how='inner', on='title')\n",
    "df0 = pd.merge(df0, df3[['imdb_title_id', 'weighted_average_vote']], how='inner')\n",
    "\n",
    "print(df0[['title', 'weighted_average_vote']].sort_values(by='weighted_average_vote', ascending=False)[:top_n])"
   ]
  },
  {
   "cell_type": "markdown",
   "metadata": {},
   "source": [
    "## Recommendation System"
   ]
  },
  {
   "cell_type": "code",
   "execution_count": 18,
   "metadata": {},
   "outputs": [],
   "source": [
    "import nltk\n",
    "from nltk.stem.snowball import SnowballStemmer"
   ]
  },
  {
   "cell_type": "code",
   "execution_count": 19,
   "metadata": {},
   "outputs": [
    {
     "name": "stdout",
     "output_type": "stream",
     "text": [
      "100\n"
     ]
    }
   ],
   "source": [
    "# Create corpus\n",
    "corpus = [title + ' ' + description for title, description in zip(df1.title, df1.description)]\n",
    "print(len(corpus))"
   ]
  },
  {
   "cell_type": "code",
   "execution_count": 20,
   "metadata": {},
   "outputs": [],
   "source": [
    "# Run this block for test corpus\n",
    "#corpus = [\n",
    "#    \"an apple a day keeps the doctor away\",\n",
    "#    \"mary ate an apple per day day okay\",\n",
    "#    \"i don't like apples neither doctors\",\n",
    "#    \"who eats apples and not doctors\",\n",
    "#    \"two apples a day do not keep doctors away\"\n",
    "#]"
   ]
  },
  {
   "cell_type": "code",
   "execution_count": 21,
   "metadata": {},
   "outputs": [],
   "source": [
    "# Stem corpus\n",
    "stemmer = SnowballStemmer(\"english\")\n",
    "corpus = [' '.join([stemmer.stem(word) for word in sentence.split()]) for sentence in corpus]\n",
    "#print(corpus, \"\\n\")"
   ]
  },
  {
   "cell_type": "markdown",
   "metadata": {},
   "source": [
    "### Part 1"
   ]
  },
  {
   "cell_type": "code",
   "execution_count": 22,
   "metadata": {},
   "outputs": [
    {
     "name": "stdout",
     "output_type": "stream",
     "text": [
      "(100, 2582)\n"
     ]
    }
   ],
   "source": [
    "# Boolean bag of words\n",
    "from sklearn.feature_extraction.text import CountVectorizer\n",
    "\n",
    "count_vectorizer = CountVectorizer(ngram_range=(1, 2), stop_words='english', binary=True)\n",
    "count_vectorizer_vectors = count_vectorizer.fit_transform(corpus)\n",
    "\n",
    "#print(count_vectorizer.get_feature_names())\n",
    "#print(count_vectorizer_vectors.toarray())\n",
    "print(count_vectorizer_vectors.shape)"
   ]
  },
  {
   "cell_type": "code",
   "execution_count": 23,
   "metadata": {},
   "outputs": [
    {
     "name": "stdout",
     "output_type": "stream",
     "text": [
      "(100, 1000)\n"
     ]
    }
   ],
   "source": [
    "# TF-IDF\n",
    "from sklearn.feature_extraction.text import TfidfVectorizer\n",
    "\n",
    "tfidf_vectorizer = TfidfVectorizer(max_df=1.0, min_df=1, max_features=1000, stop_words='english', ngram_range=(1,2))\n",
    "tfidf_vectorizer_vectors = tfidf_vectorizer.fit_transform(corpus)\n",
    "\n",
    "#print(tfidf_vectorizer.get_feature_names())\n",
    "#print(tfidf_vectorizer_vectors.toarray())\n",
    "print(tfidf_vectorizer_vectors.shape)"
   ]
  },
  {
   "cell_type": "markdown",
   "metadata": {},
   "source": [
    "### Part 2"
   ]
  },
  {
   "cell_type": "code",
   "execution_count": 24,
   "metadata": {},
   "outputs": [],
   "source": [
    "topk = 10"
   ]
  },
  {
   "cell_type": "code",
   "execution_count": 25,
   "metadata": {},
   "outputs": [],
   "source": [
    "# Jaccard distance\n",
    "\n",
    "def pairwise_jaccard(X):\n",
    "    \"\"\"Computes the Jaccard distance between the rows of `X`.\n",
    "    \"\"\"\n",
    "    #X = X.astype(bool).astype(int)\n",
    "\n",
    "    intrsct = X.dot(X.T)\n",
    "    row_sums = intrsct.diagonal()\n",
    "    unions = row_sums[:,None] + row_sums - intrsct\n",
    "    dist = 1.0 - intrsct / unions\n",
    "    return dist\n",
    "\n",
    "jaccard_distance = pairwise_jaccard(count_vectorizer_vectors).tolist()"
   ]
  },
  {
   "cell_type": "code",
   "execution_count": 26,
   "metadata": {},
   "outputs": [],
   "source": [
    "jaccard_similar_content = {\n",
    "    df1.title[i]: [df1.title[j] for j in sorted(range(len(row)), key = lambda j: row[j])[1:topk+1]] \n",
    "for i, row in zip(range(len(df1.title)), jaccard_distance)\n",
    "}"
   ]
  },
  {
   "cell_type": "code",
   "execution_count": 27,
   "metadata": {},
   "outputs": [],
   "source": [
    "# Cosine distance\n",
    "from sklearn.metrics import pairwise_distances\n",
    "\n",
    "cosine_distance = pairwise_distances(X=tfidf_vectorizer_vectors, metric='cosine').tolist()\n",
    "#print(cosine_distance)"
   ]
  },
  {
   "cell_type": "code",
   "execution_count": 28,
   "metadata": {},
   "outputs": [],
   "source": [
    "cosine_similar_content = {\n",
    "    df1.title[i]: [df1.title[j] for j in sorted(range(len(row)), key = lambda j: row[j])[1:topk+1]] \n",
    "for i, row in zip(range(len(df1.title)), cosine_distance)\n",
    "}"
   ]
  },
  {
   "cell_type": "markdown",
   "metadata": {},
   "source": [
    "### Part 3"
   ]
  },
  {
   "cell_type": "code",
   "execution_count": 29,
   "metadata": {},
   "outputs": [],
   "source": [
    "def get_similar_movies(title, N=10, method='boolean_bow'):\n",
    "    methods_available = ['boolean_bow', 'tf_idf']\n",
    "    \n",
    "    if method not in methods_available:\n",
    "        raise ValueError(\"method not available\")\n",
    "    \n",
    "    N = N if N < topk else topk\n",
    "    \n",
    "    if method == methods_available[0]:\n",
    "        return jaccard_similar_content[title][:N]\n",
    "    elif method == methods_available[1]:\n",
    "        return cosine_similar_content[title][:N]"
   ]
  },
  {
   "cell_type": "code",
   "execution_count": 30,
   "metadata": {},
   "outputs": [
    {
     "name": "stdout",
     "output_type": "stream",
     "text": [
      "Similar to 9:\n",
      "['21 Again', '2015 Dream Concert', '3%', 'Òlòtūré', '21', '1983', '100 Things to do Before High School', '20 Feet From Stardom', '21 Thunder', '10 Days in Sun City']\n",
      "\n",
      "Similar to 9:\n",
      "['2015 Dream Concert', '21 Again', '3%', '21', '21 Thunder', '100 Things to do Before High School', '10 Days in Sun City', '20 Feet From Stardom', 'Òlòtūré', '1983']\n"
     ]
    }
   ],
   "source": [
    "title = df1.title[3]\n",
    "print(\"Similar to %s:\" % title)\n",
    "print(get_similar_movies(title, method='boolean_bow'))\n",
    "print()\n",
    "print(\"Similar to %s:\" % title)\n",
    "print(get_similar_movies(title, method='tf_idf'))"
   ]
  },
  {
   "cell_type": "markdown",
   "metadata": {},
   "source": [
    "### Part 4"
   ]
  },
  {
   "cell_type": "code",
   "execution_count": 31,
   "metadata": {},
   "outputs": [],
   "source": [
    "from heapq import heapify, heappush, heappushpop, nlargest\n",
    "from scipy.spatial import distance\n",
    "\n",
    "def get_similar_movies2(description, N=10, method='boolean_bow'):\n",
    "\n",
    "    class TopnHeap():\n",
    "        def __init__(self, n):\n",
    "            self.h = []\n",
    "            self.length = n\n",
    "            heapify(self.h)\n",
    "\n",
    "        def add(self, element):\n",
    "            if len(self.h) < self.length:\n",
    "                heappush(self.h, element)\n",
    "            else:\n",
    "                heappushpop(self.h, element)\n",
    "\n",
    "        def get_topn(self):\n",
    "            return nlargest(self.length, self.h)\n",
    "\n",
    "    methods_available = ['boolean_bow', 'tf_idf']\n",
    "    \n",
    "    if method not in methods_available:\n",
    "        raise ValueError(\"method not available\")\n",
    "    \n",
    "    N = N if N < topk else topk\n",
    "    \n",
    "    new_corpus = [description]\n",
    "    new_corpus = [' '.join([stemmer.stem(word) for word in sentence.split()]) for sentence in new_corpus]\n",
    "    new_corpus = corpus + new_corpus\n",
    "    \n",
    "    topn = TopnHeap(N) \n",
    "        \n",
    "    # boolean bow\n",
    "    if method == methods_available[0]:\n",
    "        count_vectorizer_vectors2 = count_vectorizer.fit_transform(new_corpus).toarray()\n",
    "        for i in range(len(corpus)):\n",
    "            v1 = count_vectorizer_vectors2[-1]\n",
    "            v2 = count_vectorizer_vectors2[i]\n",
    "            dist = distance.jaccard(v1, v2)\n",
    "            topn.add((-dist, i))\n",
    "        return [df1.title[pair[1]] for pair in topn.get_topn()] \n",
    "    \n",
    "    # tf_idf\n",
    "    elif method == methods_available[1]:\n",
    "        tfidf_vectorizer_vectors2 = tfidf_vectorizer.fit_transform(new_corpus).toarray()\n",
    "        for i in range(len(corpus)):\n",
    "            v1 = tfidf_vectorizer_vectors2[-1]\n",
    "            v2 = tfidf_vectorizer_vectors2[i]\n",
    "            dist = distance.cosine(v1, v2)\n",
    "            topn.add((-dist, i))\n",
    "        return [df1.title[pair[1]] for pair in topn.get_topn()]\n",
    "    "
   ]
  },
  {
   "cell_type": "code",
   "execution_count": 32,
   "metadata": {},
   "outputs": [
    {
     "name": "stdout",
     "output_type": "stream",
     "text": [
      "Similar to \n",
      "When a beautiful stranger leads computer hacker Neo to a forbidding underworld, he discovers the shocking truth--the life he knows is the elaborate deception of an evil cyber-intelligence.\n",
      "\n",
      "Using boolean bow\n",
      "['\\u200b\\u200bKuch Bheege Alfaaz', '706', '#Roxy', '28 Moons', '46', '21 Again', '21 & Over', '20 Minutes', '7:19', '100 Days My Prince']\n",
      "\n",
      "Using tf-idf\n",
      "['\\u200b\\u200bKuch Bheege Alfaaz', '706', '#Roxy', '\\u200bGoli Soda 2', '46', '28 Moons', '100 Days Of Solitude', '21 & Over', '20 Minutes', '7:19']\n"
     ]
    }
   ],
   "source": [
    "title = 'When a beautiful stranger leads computer hacker Neo to a forbidding underworld, he discovers the shocking truth--the life he knows is the elaborate deception of an evil cyber-intelligence.'\n",
    "print(\"Similar to \\n%s\" % title)\n",
    "print(\"\\nUsing boolean bow\")\n",
    "print(get_similar_movies2(title, method='boolean_bow'))\n",
    "print(\"\\nUsing tf-idf\")\n",
    "print(get_similar_movies2(title, method='tf_idf'))"
   ]
  }
 ],
 "metadata": {
  "kernelspec": {
   "display_name": "Python 3",
   "language": "python",
   "name": "python3"
  },
  "language_info": {
   "codemirror_mode": {
    "name": "ipython",
    "version": 3
   },
   "file_extension": ".py",
   "mimetype": "text/x-python",
   "name": "python",
   "nbconvert_exporter": "python",
   "pygments_lexer": "ipython3",
   "version": "3.8.5"
  }
 },
 "nbformat": 4,
 "nbformat_minor": 4
}
