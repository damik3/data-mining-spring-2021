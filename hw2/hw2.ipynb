{
 "cells": [
  {
   "cell_type": "markdown",
   "metadata": {},
   "source": [
    "# Τεχνικές Eξόρυξης Δεδομένων - Άσκηση 2\n",
    "_Βαργιάμης Μιχαήλ, sdi1300018_\n",
    "\n",
    "---"
   ]
  },
  {
   "cell_type": "code",
   "execution_count": 1,
   "metadata": {},
   "outputs": [
    {
     "name": "stderr",
     "output_type": "stream",
     "text": [
      "C:\\Users\\Mike\\anaconda3\\lib\\site-packages\\gensim\\similarities\\__init__.py:15: UserWarning: The gensim.similarities.levenshtein submodule is disabled, because the optional Levenshtein package <https://pypi.org/project/python-Levenshtein/> is unavailable. Install Levenhstein (e.g. `pip install python-Levenshtein`) to suppress this warning.\n",
      "  warnings.warn(msg)\n"
     ]
    }
   ],
   "source": [
    "import pandas as pd\n",
    "import numpy as np\n",
    "import matplotlib.pyplot as plt\n",
    "import nltk\n",
    "#nltk.download('stopwords')\n",
    "import copy\n",
    "import re\n",
    "from gensim.models import Word2Vec\n",
    "from sklearn.feature_extraction.text import CountVectorizer\n",
    "from sklearn.linear_model import LogisticRegression\n",
    "from sklearn.metrics import f1_score\n",
    "from sklearn.feature_extraction import text\n",
    "from sklearn.naive_bayes import GaussianNB\n",
    "from sklearn import metrics\n",
    "from sklearn.svm import SVC\n",
    "from sklearn.metrics import classification_report\n",
    "from sklearn.model_selection import GridSearchCV\n",
    "from sklearn.ensemble import RandomForestClassifier"
   ]
  },
  {
   "cell_type": "code",
   "execution_count": 2,
   "metadata": {},
   "outputs": [],
   "source": [
    "dftrue = pd.read_csv(\"True.csv\")\n",
    "dffake = pd.read_csv(\"Fake.csv\")"
   ]
  },
  {
   "cell_type": "markdown",
   "metadata": {},
   "source": [
    "## Προεπεξεργασία - καθάρισμα"
   ]
  },
  {
   "cell_type": "code",
   "execution_count": 3,
   "metadata": {},
   "outputs": [],
   "source": [
    "dftrue = dftrue.head(1000)\n",
    "dffake = dffake.head(1000)"
   ]
  },
  {
   "cell_type": "code",
   "execution_count": 4,
   "metadata": {},
   "outputs": [],
   "source": [
    "from nltk.corpus import stopwords\n",
    "\n",
    "def str_lower(df, columns):\n",
    "    for col in columns:\n",
    "        df[col] = df[col].str.lower()\n",
    "    return df\n",
    "\n",
    "def remove_punctuation(df, columns):\n",
    "    for col in columns:\n",
    "        df[col] = df[col].str.replace(r'[^\\w\\s]+', '')\n",
    "    return df\n",
    "\n",
    "def remove_stopwords(df, columns):\n",
    "    stop = stopwords.words('english')\n",
    "    for col in columns:\n",
    "        df[col] = df[col].apply(lambda x: ' '.join([word for word in x.split() if word not in (stop)]))\n",
    "    return df"
   ]
  },
  {
   "cell_type": "code",
   "execution_count": 5,
   "metadata": {},
   "outputs": [],
   "source": [
    "# A list of contractions from http://stackoverflow.com/questions/19790188/expanding-english-language-contractions-in-python\n",
    "contractions = { \n",
    "\"ain't\": \"am not\",\n",
    "\"aren't\": \"are not\",\n",
    "\"can't\": \"cannot\",\n",
    "\"can't've\": \"cannot have\",\n",
    "\"'cause\": \"because\",\n",
    "\"could've\": \"could have\",\n",
    "\"couldn't\": \"could not\",\n",
    "\"couldn't've\": \"could not have\",\n",
    "\"didn't\": \"did not\",\n",
    "\"doesn't\": \"does not\",\n",
    "\"don't\": \"do not\",\n",
    "\"hadn't\": \"had not\",\n",
    "\"hadn't've\": \"had not have\",\n",
    "\"hasn't\": \"has not\",\n",
    "\"haven't\": \"have not\",\n",
    "\"he'd\": \"he would\",\n",
    "\"he'd've\": \"he would have\",\n",
    "\"he'll\": \"he will\",\n",
    "\"he's\": \"he is\",\n",
    "\"how'd\": \"how did\",\n",
    "\"how'll\": \"how will\",\n",
    "\"how's\": \"how is\",\n",
    "\"i'd\": \"i would\",\n",
    "\"i'll\": \"i will\",\n",
    "\"i'm\": \"i am\",\n",
    "\"i've\": \"i have\",\n",
    "\"isn't\": \"is not\",\n",
    "\"it'd\": \"it would\",\n",
    "\"it'll\": \"it will\",\n",
    "\"it's\": \"it is\",\n",
    "\"let's\": \"let us\",\n",
    "\"ma'am\": \"madam\",\n",
    "\"mayn't\": \"may not\",\n",
    "\"might've\": \"might have\",\n",
    "\"mightn't\": \"might not\",\n",
    "\"must've\": \"must have\",\n",
    "\"mustn't\": \"must not\",\n",
    "\"needn't\": \"need not\",\n",
    "\"oughtn't\": \"ought not\",\n",
    "\"shan't\": \"shall not\",\n",
    "\"sha'n't\": \"shall not\",\n",
    "\"she'd\": \"she would\",\n",
    "\"she'll\": \"she will\",\n",
    "\"she's\": \"she is\",\n",
    "\"should've\": \"should have\",\n",
    "\"shouldn't\": \"should not\",\n",
    "\"that'd\": \"that would\",\n",
    "\"that's\": \"that is\",\n",
    "\"there'd\": \"there had\",\n",
    "\"there's\": \"there is\",\n",
    "\"they'd\": \"they would\",\n",
    "\"they'll\": \"they will\",\n",
    "\"they're\": \"they are\",\n",
    "\"they've\": \"they have\",\n",
    "\"wasn't\": \"was not\",\n",
    "\"we'd\": \"we would\",\n",
    "\"we'll\": \"we will\",\n",
    "\"we're\": \"we are\",\n",
    "\"we've\": \"we have\",\n",
    "\"weren't\": \"were not\",\n",
    "\"what'll\": \"what will\",\n",
    "\"what're\": \"what are\",\n",
    "\"what's\": \"what is\",\n",
    "\"what've\": \"what have\",\n",
    "\"where'd\": \"where did\",\n",
    "\"where's\": \"where is\",\n",
    "\"who'll\": \"who will\",\n",
    "\"who's\": \"who is\",\n",
    "\"won't\": \"will not\",\n",
    "\"wouldn't\": \"would not\",\n",
    "\"you'd\": \"you would\",\n",
    "\"you'll\": \"you will\",\n",
    "\"you're\": \"you are\"\n",
    "}"
   ]
  },
  {
   "cell_type": "code",
   "execution_count": 6,
   "metadata": {},
   "outputs": [],
   "source": [
    "def clean_text(text, remove_stopwords = True):\n",
    "    '''Remove unwanted characters, stopwords, and format the text to create fewer nulls word embeddings'''\n",
    "    \n",
    "    # Convert words to lower case\n",
    "    text = text.lower()\n",
    "    \n",
    "    # Replace contractions with their longer forms \n",
    "    if True:\n",
    "        text = text.split()\n",
    "        new_text = []\n",
    "        for word in text:\n",
    "            if word in contractions:\n",
    "                new_text.append(contractions[word])\n",
    "            else:\n",
    "                new_text.append(word)\n",
    "        text = \" \".join(new_text)\n",
    "    \n",
    "    # Format words and remove unwanted characters\n",
    "    text = re.sub(r'https?:\\/\\/.*[\\r\\n]*', '', text, flags=re.MULTILINE)\n",
    "    text = re.sub(r'\\<a href', ' ', text)\n",
    "    text = re.sub(r'&amp;', '', text) \n",
    "    text = re.sub(r'[_\"\\-;%()|+&=*%.,!?:#$@\\[\\]/]', '', text)\n",
    "    text = re.sub(r'<br />', ' ', text)\n",
    "    text = re.sub(r'\\'', ' ', text)\n",
    "    \n",
    "    # remove stop words\n",
    "    if remove_stopwords:\n",
    "        text = text.split()\n",
    "        stops = set(stopwords.words(\"english\"))\n",
    "        text = [w for w in text if not w in stops]\n",
    "        text = \" \".join(text)\n",
    "\n",
    "    # Tokenize each word\n",
    "    text =  nltk.WordPunctTokenizer().tokenize(text)\n",
    "        \n",
    "    return text"
   ]
  },
  {
   "cell_type": "markdown",
   "metadata": {},
   "source": [
    "## Μελέτη των δεδομένων"
   ]
  },
  {
   "cell_type": "markdown",
   "metadata": {},
   "source": [
    "#### α) και β)"
   ]
  },
  {
   "cell_type": "code",
   "execution_count": 7,
   "metadata": {},
   "outputs": [],
   "source": [
    "def avg_char_count(df, column):\n",
    "    return sum([ sum([1 for c in s if c.isalpha() or c.isdigit() ]) for s in df[column] ])/ len(df)"
   ]
  },
  {
   "cell_type": "code",
   "execution_count": 8,
   "metadata": {},
   "outputs": [
    {
     "data": {
      "image/png": "[encoded data removed]",
      "text/plain": [
       "<Figure size 432x288 with 1 Axes>"
      ]
     },
     "metadata": {
      "needs_background": "light"
     },
     "output_type": "display_data"
    }
   ],
   "source": [
    "pd.DataFrame({\n",
    "    \"true_avg\": [avg_char_count(dftrue, \"title\")],\n",
    "    \"fake_avg\": [avg_char_count(dffake, \"title\")],\n",
    "}).plot.bar()\n",
    "None"
   ]
  },
  {
   "cell_type": "code",
   "execution_count": 9,
   "metadata": {},
   "outputs": [
    {
     "data": {
      "image/png": "[encoded data removed]",
      "text/plain": [
       "<Figure size 432x288 with 1 Axes>"
      ]
     },
     "metadata": {
      "needs_background": "light"
     },
     "output_type": "display_data"
    }
   ],
   "source": [
    "pd.DataFrame({\n",
    "    \"true_avg\": [avg_char_count(dftrue, \"text\")],\n",
    "    \"fake_avg\": [avg_char_count(dffake, \"text\")],\n",
    "}).plot.bar()\n",
    "None"
   ]
  },
  {
   "cell_type": "markdown",
   "metadata": {},
   "source": [
    "#### γ) και δ)"
   ]
  },
  {
   "cell_type": "code",
   "execution_count": 10,
   "metadata": {},
   "outputs": [],
   "source": [
    "from collections import Counter\n",
    "\n",
    "def plot_word_count(df, col):\n",
    "    count = [len(s) for s in df[col]]\n",
    "    dftemp = pd.DataFrame({\n",
    "        \"count\": count\n",
    "    })\n",
    "    dftemp.hist(bins=20, column='count')"
   ]
  },
  {
   "cell_type": "code",
   "execution_count": 11,
   "metadata": {},
   "outputs": [],
   "source": [
    "dftruestop = copy.deepcopy(dftrue)\n",
    "dffakestop = copy.deepcopy(dffake)\n",
    "dftruestop = remove_stopwords(dftruestop, [\"title\", \"text\"])\n",
    "dffakestop = remove_stopwords(dffakestop, [\"title\", \"text\"])"
   ]
  },
  {
   "cell_type": "code",
   "execution_count": 12,
   "metadata": {},
   "outputs": [
    {
     "data": {
      "image/png": "[encoded data removed]",
      "text/plain": [
       "<Figure size 432x288 with 1 Axes>"
      ]
     },
     "metadata": {
      "needs_background": "light"
     },
     "output_type": "display_data"
    }
   ],
   "source": [
    "plot_word_count(dftrue, 'title')\n",
    "plt.legend([\"Word count of ture news titles\"])\n",
    "None"
   ]
  },
  {
   "cell_type": "code",
   "execution_count": 13,
   "metadata": {},
   "outputs": [
    {
     "data": {
      "image/png": "[encoded data removed]",
      "text/plain": [
       "<Figure size 432x288 with 1 Axes>"
      ]
     },
     "metadata": {
      "needs_background": "light"
     },
     "output_type": "display_data"
    }
   ],
   "source": [
    "plot_word_count(dftruestop, 'title')\n",
    "plt.legend([\"Word count of ture news titles without stopwords\"])\n",
    "None"
   ]
  },
  {
   "cell_type": "code",
   "execution_count": 14,
   "metadata": {},
   "outputs": [
    {
     "data": {
      "image/png": "[encoded data removed]",
      "text/plain": [
       "<Figure size 432x288 with 1 Axes>"
      ]
     },
     "metadata": {
      "needs_background": "light"
     },
     "output_type": "display_data"
    }
   ],
   "source": [
    "plot_word_count(dftrue, 'text')\n",
    "plt.legend([\"Word count of ture news texts\"])\n",
    "None"
   ]
  },
  {
   "cell_type": "code",
   "execution_count": 15,
   "metadata": {},
   "outputs": [
    {
     "data": {
      "image/png": "[encoded data removed]",
      "text/plain": [
       "<Figure size 432x288 with 1 Axes>"
      ]
     },
     "metadata": {
      "needs_background": "light"
     },
     "output_type": "display_data"
    }
   ],
   "source": [
    "plot_word_count(dftruestop, 'text')\n",
    "plt.legend([\"Word count of ture news texts without stopwords\"])\n",
    "None"
   ]
  },
  {
   "cell_type": "code",
   "execution_count": 16,
   "metadata": {},
   "outputs": [
    {
     "data": {
      "image/png": "[encoded data removed]",
      "text/plain": [
       "<Figure size 432x288 with 1 Axes>"
      ]
     },
     "metadata": {
      "needs_background": "light"
     },
     "output_type": "display_data"
    }
   ],
   "source": [
    "plot_word_count(dffake, 'title')\n",
    "plt.legend([\"Word count of fake news titles\"])\n",
    "None"
   ]
  },
  {
   "cell_type": "code",
   "execution_count": 17,
   "metadata": {},
   "outputs": [
    {
     "data": {
      "image/png": "[encoded data removed]",
      "text/plain": [
       "<Figure size 432x288 with 1 Axes>"
      ]
     },
     "metadata": {
      "needs_background": "light"
     },
     "output_type": "display_data"
    }
   ],
   "source": [
    "plot_word_count(dffakestop, 'title')\n",
    "plt.legend([\"Word count of fake news titles without stopwords\"])\n",
    "None"
   ]
  },
  {
   "cell_type": "code",
   "execution_count": 18,
   "metadata": {},
   "outputs": [
    {
     "data": {
      "image/png": "[encoded data removed]",
      "text/plain": [
       "<Figure size 432x288 with 1 Axes>"
      ]
     },
     "metadata": {
      "needs_background": "light"
     },
     "output_type": "display_data"
    }
   ],
   "source": [
    "plot_word_count(dffake, 'text')\n",
    "plt.legend([\"Word count of fake news texts\"])\n",
    "None"
   ]
  },
  {
   "cell_type": "code",
   "execution_count": 19,
   "metadata": {},
   "outputs": [
    {
     "data": {
      "image/png": "[encoded data removed]",
      "text/plain": [
       "<Figure size 432x288 with 1 Axes>"
      ]
     },
     "metadata": {
      "needs_background": "light"
     },
     "output_type": "display_data"
    }
   ],
   "source": [
    "plot_word_count(dffakestop, 'text')\n",
    "plt.legend([\"Word count of fake news texts without stopwords\"])\n",
    "None"
   ]
  },
  {
   "cell_type": "markdown",
   "metadata": {},
   "source": [
    "## Δημιουργία συνόλου εκμάθησης και δοκιμής"
   ]
  },
  {
   "cell_type": "code",
   "execution_count": 20,
   "metadata": {},
   "outputs": [],
   "source": [
    "# Combine title text and subject in one column\n",
    "dftrue['text_combined'] = dftrue.title + \" \" + dftrue.text + \" \" + dftrue.subject\n",
    "dffake['text_combined'] = dffake.title + \" \" + dffake.text + \" \" + dffake.subject"
   ]
  },
  {
   "cell_type": "code",
   "execution_count": 21,
   "metadata": {},
   "outputs": [],
   "source": [
    "# Preprocess text of new combined column\n",
    "dftrue['text_cleaned'] = list(map(clean_text, dftrue.text_combined))\n",
    "dftrue = dftrue.drop(['text_combined'], axis=1)\n",
    "dffake['text_cleaned'] = list(map(clean_text, dffake.text_combined))\n",
    "dffake = dffake.drop(['text_combined'], axis=1)"
   ]
  },
  {
   "cell_type": "code",
   "execution_count": 22,
   "metadata": {},
   "outputs": [],
   "source": [
    "# Define split size\n",
    "size = len(dftrue)\n",
    "splitsize = int(0.5 * len(dftrue))\n",
    "\n",
    "# Split dftrue to train and test\n",
    "dftraintrue = dftrue.head(splitsize)\n",
    "dftesttrue = dftrue.tail(size - splitsize)\n",
    "\n",
    "# Add labels\n",
    "dftraintrue.insert(4, \"label\", [1 for i in range(splitsize)])\n",
    "dftesttrue.insert(4, \"label\", [1 for i in range(size - splitsize)])\n",
    "\n",
    "# Split dffake to train and test\n",
    "dftrainfake = dffake.head(size - splitsize)\n",
    "dftestfake = dffake.tail(splitsize)\n",
    "\n",
    "# Add labels\n",
    "dftrainfake.insert(4, \"label\", [0 for i in range(size - splitsize)])\n",
    "dftestfake.insert(4, \"label\", [0 for i in range(splitsize)])\n",
    "\n",
    "# Merge into dftrain and dftest respectively\n",
    "dftrain = dftraintrue.append(dftrainfake, ignore_index=True)\n",
    "dftest = dftesttrue.append(dftestfake, ignore_index=True)\n",
    "\n",
    "# Write to csv\n",
    "dftrain.to_csv(\"Train.csv\")\n",
    "dftest.to_csv(\"Test.csv\")"
   ]
  },
  {
   "cell_type": "markdown",
   "metadata": {},
   "source": [
    "## Classification"
   ]
  },
  {
   "cell_type": "code",
   "execution_count": 23,
   "metadata": {},
   "outputs": [],
   "source": [
    "# Bag of Words Transofrmation\n",
    "\n",
    "bow_transform = CountVectorizer(tokenizer=lambda doc: doc, ngram_range=[3,3], lowercase=False)\n",
    "x_train_bow = bow_transform.fit_transform(dftrain['text_cleaned'])\n",
    "x_test_bow = bow_transform.transform(dftest['text_cleaned'])"
   ]
  },
  {
   "cell_type": "code",
   "execution_count": 24,
   "metadata": {},
   "outputs": [],
   "source": [
    "# Labels\n",
    "\n",
    "y_train = dftrain['label']\n",
    "y_test = dftest['label']"
   ]
  },
  {
   "cell_type": "code",
   "execution_count": 25,
   "metadata": {},
   "outputs": [],
   "source": [
    "# TF-IDF Transformation\n",
    "\n",
    "tfidf_transform = text.TfidfTransformer()\n",
    "x_train_tfidf = tfidf_transform.fit_transform(x_train_bow)\n",
    "x_test_tfidf = tfidf_transform.transform(x_test_bow)"
   ]
  },
  {
   "cell_type": "code",
   "execution_count": 26,
   "metadata": {},
   "outputs": [],
   "source": [
    "# Word2Vec Transformation\n",
    "\n",
    "# Combine vocabulary from dftrain and dftest\n",
    "dfcomb = dftrain['text_cleaned'].append(dftest['text_cleaned'], ignore_index=True).to_frame()\n",
    "w2v = Word2Vec(dfcomb['text_cleaned'],\n",
    "                vector_size=100,\n",
    "                seed=32,\n",
    "                negative=5,\n",
    "                sg=0,\n",
    "                min_count=1,\n",
    "                window=1)\n",
    "w2v.build_vocab(dfcomb['text_cleaned'])\n",
    "w2v.train(dfcomb['text_cleaned'], total_examples=w2v.corpus_count, epochs=5)\n",
    "\n",
    "# Compute the mean for each word\n",
    "transformed_vocabulary = {\n",
    "    word: w2v.wv[word].mean(axis=0)\n",
    "for word in w2v.wv.index_to_key\n",
    "}\n",
    "\n",
    "# Create 2d array for training\n",
    "x_train_w2v = [\n",
    "    [\n",
    "        transformed_vocabulary[word] for word in text ]\n",
    "    for text in dftrain['text_cleaned'] ]\n",
    "\n",
    "# Create 2d array for testing\n",
    "x_test_w2v = [\n",
    "    [\n",
    "        transformed_vocabulary[word]\n",
    "    for word in text ] \n",
    "for text in dftest['text_cleaned'] ]\n",
    "\n",
    "# Pad arrays with zeroes so that they have the same dimensions\n",
    "maxlen1 = len(max(x_train_w2v, key=len))\n",
    "maxlen2 = len(max(x_test_w2v, key=len))\n",
    "maxlen = max(maxlen1, maxlen2)\n",
    "x_train_w2v = [np.pad(row, (0, maxlen - len(row)), 'constant') for row in x_train_w2v]\n",
    "x_test_w2v = [np.pad(row, (0, maxlen - len(row)), 'constant') for row in x_test_w2v]"
   ]
  },
  {
   "cell_type": "markdown",
   "metadata": {},
   "source": [
    "### Logistic Regression"
   ]
  },
  {
   "cell_type": "code",
   "execution_count": 27,
   "metadata": {},
   "outputs": [
    {
     "name": "stdout",
     "output_type": "stream",
     "text": [
      "Logistic Regression BoW Accuracy score:            0.9320\n",
      "Logistic Regression BoW F1 score:                  0.9286\n"
     ]
    }
   ],
   "source": [
    "lr = LogisticRegression()\n",
    "lr.fit(x_train_bow, y_train)\n",
    "score = lr.score(x_test_bow, y_test)\n",
    "print('%-50s %.4f' % ('Logistic Regression BoW Accuracy score:', score))\n",
    "print('%-50s %.4f' % ('Logistic Regression BoW F1 score:', f1_score(y_test, lr.predict(x_test_bow))))"
   ]
  },
  {
   "cell_type": "code",
   "execution_count": 28,
   "metadata": {
    "scrolled": true
   },
   "outputs": [
    {
     "name": "stdout",
     "output_type": "stream",
     "text": [
      "Logistic Regression TF-IDF Accuracy score:         0.9360\n",
      "Logistic Regression TF-IDF F1 score:               0.9382\n"
     ]
    }
   ],
   "source": [
    "lr = LogisticRegression()\n",
    "lr.fit(x_train_tfidf, y_train)\n",
    "score = lr.score(x_test_tfidf, y_test)\n",
    "print('%-50s %.4f' % ('Logistic Regression TF-IDF Accuracy score:', score))\n",
    "print('%-50s %.4f' % ('Logistic Regression TF-IDF F1 score:', f1_score(y_test, lr.predict(x_test_tfidf))))"
   ]
  },
  {
   "cell_type": "code",
   "execution_count": 29,
   "metadata": {
    "scrolled": true
   },
   "outputs": [
    {
     "name": "stdout",
     "output_type": "stream",
     "text": [
      "Logistic Regression W2V Accuracy score:            0.7110\n",
      "Logistic Regression W2V F1 score:                  0.6778\n"
     ]
    }
   ],
   "source": [
    "lr = LogisticRegression()\n",
    "lr.fit(x_train_w2v, y_train)\n",
    "score = lr.score(x_test_w2v, y_test)\n",
    "print('%-50s %.4f' % ('Logistic Regression W2V Accuracy score:', score))\n",
    "print('%-50s %.4f' % ('Logistic Regression W2V F1 score:', f1_score(y_test, lr.predict(x_test_w2v))))"
   ]
  },
  {
   "cell_type": "markdown",
   "metadata": {},
   "source": [
    "### Naive Bayes"
   ]
  },
  {
   "cell_type": "code",
   "execution_count": 30,
   "metadata": {
    "scrolled": true
   },
   "outputs": [
    {
     "name": "stdout",
     "output_type": "stream",
     "text": [
      "Naive Bayes BoW Accuracy score:                    0.9580\n",
      "Naive Bayes BoW F1 score:                          0.9592\n"
     ]
    }
   ],
   "source": [
    "gnb = GaussianNB()\n",
    "gnb.fit(x_train_bow.toarray(), y_train)\n",
    "y_pred_bow = gnb.predict(x_test_bow.toarray())\n",
    "score = metrics.accuracy_score(y_test, y_pred_bow)\n",
    "print('%-50s %.4f' % ('Naive Bayes BoW Accuracy score:', score))\n",
    "print('%-50s %.4f' % ('Naive Bayes BoW F1 score:', f1_score(y_test, y_pred_bow)))"
   ]
  },
  {
   "cell_type": "code",
   "execution_count": 31,
   "metadata": {
    "scrolled": true
   },
   "outputs": [
    {
     "name": "stdout",
     "output_type": "stream",
     "text": [
      "Naive Bayes TF-IDF Accuracy score:                 0.9350\n",
      "Naive Bayes TF-IDF F1 score:                       0.9378\n"
     ]
    }
   ],
   "source": [
    "gnb = GaussianNB()\n",
    "gnb.fit(x_train_tfidf.toarray(), y_train)\n",
    "y_pred_tfidf = gnb.predict(x_test_tfidf.toarray())\n",
    "score = metrics.accuracy_score(y_test, y_pred_tfidf)\n",
    "print('%-50s %.4f' % ('Naive Bayes TF-IDF Accuracy score:', score))\n",
    "print('%-50s %.4f' % ('Naive Bayes TF-IDF F1 score:', f1_score(y_test, y_pred_tfidf)))"
   ]
  },
  {
   "cell_type": "code",
   "execution_count": 32,
   "metadata": {
    "scrolled": true
   },
   "outputs": [
    {
     "name": "stdout",
     "output_type": "stream",
     "text": [
      "Naive Bayes W2V Accuracy score:                    0.6120\n",
      "Naive Bayes W2V F1 score:                          0.3918\n"
     ]
    }
   ],
   "source": [
    "gnb = GaussianNB()\n",
    "gnb.fit(x_train_w2v, y_train)\n",
    "y_pred_w2v = gnb.predict(x_test_w2v)\n",
    "score = metrics.accuracy_score(y_test, y_pred_w2v)\n",
    "print('%-50s %.4f' % ('Naive Bayes W2V Accuracy score:', score))\n",
    "print('%-50s %.4f' % ('Naive Bayes W2V F1 score:', f1_score(y_test, y_pred_w2v)))"
   ]
  },
  {
   "cell_type": "markdown",
   "metadata": {},
   "source": [
    "### Support Vector Machines"
   ]
  },
  {
   "cell_type": "code",
   "execution_count": 33,
   "metadata": {},
   "outputs": [
    {
     "name": "stdout",
     "output_type": "stream",
     "text": [
      "Support Vector Machines BoW\n",
      "\n",
      "              precision    recall  f1-score   support\n",
      "\n",
      "           0       0.85      0.98      0.91       500\n",
      "           1       0.97      0.82      0.89       500\n",
      "\n",
      "    accuracy                           0.90      1000\n",
      "   macro avg       0.91      0.90      0.90      1000\n",
      "weighted avg       0.91      0.90      0.90      1000\n",
      "\n"
     ]
    }
   ],
   "source": [
    "from sklearn.metrics import classification_report\n",
    "svc = SVC()\n",
    "svc.fit(x_train_bow, y_train)\n",
    "predictions = svc.predict(x_test_bow)\n",
    "print(\"Support Vector Machines BoW\\n\")\n",
    "print(classification_report(y_test, predictions))"
   ]
  },
  {
   "cell_type": "code",
   "execution_count": 34,
   "metadata": {},
   "outputs": [
    {
     "name": "stdout",
     "output_type": "stream",
     "text": [
      "Support Vector Machines TF-IDF\n",
      "\n",
      "              precision    recall  f1-score   support\n",
      "\n",
      "           0       0.96      0.93      0.94       500\n",
      "           1       0.93      0.96      0.94       500\n",
      "\n",
      "    accuracy                           0.94      1000\n",
      "   macro avg       0.94      0.94      0.94      1000\n",
      "weighted avg       0.94      0.94      0.94      1000\n",
      "\n"
     ]
    }
   ],
   "source": [
    "svc = SVC()\n",
    "svc.fit(x_train_tfidf, y_train)\n",
    "predictions = svc.predict(x_test_tfidf)\n",
    "print(\"Support Vector Machines TF-IDF\\n\")\n",
    "print(classification_report(y_test, predictions))"
   ]
  },
  {
   "cell_type": "code",
   "execution_count": 35,
   "metadata": {},
   "outputs": [
    {
     "name": "stdout",
     "output_type": "stream",
     "text": [
      "Support Vector Machines W2V\n",
      "\n",
      "              precision    recall  f1-score   support\n",
      "\n",
      "           0       0.76      0.81      0.78       500\n",
      "           1       0.80      0.74      0.77       500\n",
      "\n",
      "    accuracy                           0.78      1000\n",
      "   macro avg       0.78      0.78      0.78      1000\n",
      "weighted avg       0.78      0.78      0.78      1000\n",
      "\n"
     ]
    }
   ],
   "source": [
    "svc = SVC()\n",
    "svc.fit(x_train_w2v, y_train)\n",
    "predictions = svc.predict(x_test_w2v)\n",
    "print(\"Support Vector Machines W2V\\n\")\n",
    "print(classification_report(y_test, predictions))"
   ]
  },
  {
   "cell_type": "code",
   "execution_count": 36,
   "metadata": {},
   "outputs": [],
   "source": [
    "# Re run using GridsearchCV\n",
    "\n",
    "# Define parameter range\n",
    "param_grid = {'C': [0.1, 1, 10, 100], \n",
    "              'gamma': [1, 0.1, 0.01, 0.001],\n",
    "              'kernel': ['rbf', 'linear']} \n",
    "# Create grid\n",
    "grid = GridSearchCV(SVC(), param_grid, refit = True, verbose = 3)"
   ]
  },
  {
   "cell_type": "code",
   "execution_count": 37,
   "metadata": {},
   "outputs": [],
   "source": [
    "# Train again for BoW\n",
    "#grid.fit(x_train_bow, y_train)\n",
    "#print(grid.best_params_)\n",
    "#grid_predictions = grid.predict(x_test_bow)\n",
    "#print(classification_report(y_test, grid_predictions))"
   ]
  },
  {
   "cell_type": "code",
   "execution_count": 38,
   "metadata": {},
   "outputs": [],
   "source": [
    "# Train again for TF-IDF\n",
    "#grid.fit(x_train_tfidf, y_train)\n",
    "#print(grid.best_params_)\n",
    "#grid_predictions = grid.predict(x_test_tfidf)\n",
    "#print(classification_report(y_test, grid_predictions))"
   ]
  },
  {
   "cell_type": "code",
   "execution_count": 39,
   "metadata": {},
   "outputs": [],
   "source": [
    "# Train again for W2V\n",
    "#grid.fit(x_train_w2v, y_train)\n",
    "#print(grid.best_params_)\n",
    "#grid_predictions = grid.predict(x_test_w2v)\n",
    "#print(classification_report(y_test, grid_predictions))"
   ]
  },
  {
   "cell_type": "markdown",
   "metadata": {},
   "source": [
    "### Random Forests"
   ]
  },
  {
   "cell_type": "code",
   "execution_count": 40,
   "metadata": {},
   "outputs": [
    {
     "name": "stdout",
     "output_type": "stream",
     "text": [
      "Random Forests BoW\n",
      "\n",
      "              precision    recall  f1-score   support\n",
      "\n",
      "           0       0.80      1.00      0.89       500\n",
      "           1       1.00      0.75      0.86       500\n",
      "\n",
      "    accuracy                           0.88      1000\n",
      "   macro avg       0.90      0.88      0.87      1000\n",
      "weighted avg       0.90      0.88      0.87      1000\n",
      "\n"
     ]
    }
   ],
   "source": [
    "rfc = RandomForestClassifier()\n",
    "rfc.fit(x_train_bow, y_train)\n",
    "predictions = rfc.predict(x_test_bow)\n",
    "print(\"Random Forests BoW\\n\")\n",
    "print(classification_report(y_test, predictions))"
   ]
  },
  {
   "cell_type": "code",
   "execution_count": 41,
   "metadata": {},
   "outputs": [
    {
     "name": "stdout",
     "output_type": "stream",
     "text": [
      "Random Forests TF-IDF\n",
      "\n",
      "              precision    recall  f1-score   support\n",
      "\n",
      "           0       0.84      1.00      0.91       500\n",
      "           1       1.00      0.80      0.89       500\n",
      "\n",
      "    accuracy                           0.90      1000\n",
      "   macro avg       0.92      0.90      0.90      1000\n",
      "weighted avg       0.92      0.90      0.90      1000\n",
      "\n"
     ]
    }
   ],
   "source": [
    "rfc = RandomForestClassifier()\n",
    "rfc.fit(x_train_tfidf, y_train)\n",
    "predictions = rfc.predict(x_test_tfidf)\n",
    "print(\"Random Forests TF-IDF\\n\")\n",
    "print(classification_report(y_test, predictions))"
   ]
  },
  {
   "cell_type": "code",
   "execution_count": 42,
   "metadata": {},
   "outputs": [
    {
     "name": "stdout",
     "output_type": "stream",
     "text": [
      "Random Forests W2V\n",
      "\n",
      "              precision    recall  f1-score   support\n",
      "\n",
      "           0       0.82      0.89      0.86       500\n",
      "           1       0.88      0.81      0.84       500\n",
      "\n",
      "    accuracy                           0.85      1000\n",
      "   macro avg       0.85      0.85      0.85      1000\n",
      "weighted avg       0.85      0.85      0.85      1000\n",
      "\n"
     ]
    }
   ],
   "source": [
    "rfc = RandomForestClassifier()\n",
    "rfc.fit(x_train_w2v, y_train)\n",
    "predictions = rfc.predict(x_test_w2v)\n",
    "print(\"Random Forests W2V\\n\")\n",
    "print(classification_report(y_test, predictions))"
   ]
  }
 ],
 "metadata": {
  "kernelspec": {
   "display_name": "Python 3",
   "language": "python",
   "name": "python3"
  },
  "language_info": {
   "codemirror_mode": {
    "name": "ipython",
    "version": 3
   },
   "file_extension": ".py",
   "mimetype": "text/x-python",
   "name": "python",
   "nbconvert_exporter": "python",
   "pygments_lexer": "ipython3",
   "version": "3.8.5"
  }
 },
 "nbformat": 4,
 "nbformat_minor": 4
}
